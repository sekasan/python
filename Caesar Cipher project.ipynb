{
 "cells": [
  {
   "cell_type": "code",
   "execution_count": null,
   "metadata": {},
   "outputs": [],
   "source": [
    "# https://nt.dev/s/6e82ce98f481\n",
    "\n",
    "\n",
    "'''\n",
    "Cipher function project\n",
    "\n",
    "define an input \"strIn\" as a string\n",
    "define another input \"intIn\" as an integer\n",
    "define \"temp\" var\n",
    "define \"strOut\" variable to hold the shifted string\n",
    "\n",
    "define function to append to \"strOut\" in character by character iterations using a loop:\n",
    "    extract first character of input string & assign to \"temp\" var\n",
    "    add intIn value to \"temp\" var \n",
    "    append \"temp\" to \"strOut\" \n",
    "    return \"strOut\n",
    "\n",
    "call function & assign to \"strOut\" variable\n",
    "print(strOut)    \n",
    "'''\n",
    "\n",
    "# inputs\n",
    "strIn = input('Enter a String: ')   #string class by default\n",
    "intIn = int(input('Integer: '))     #cast to integer type\n",
    "temp = str(\"\")\n",
    "strOut = str(\"\")\n",
    "\n",
    "# define function\n",
    "def cCipher(strIn, intIn):\n",
    "    for i in range(0, len(strIn)):\n",
    "        print(i)                    #display iteration number\n",
    "        temp = ord(strIn[i])\n",
    "        print(temp)                 #display unicode value of character from strIn\n",
    "        strOut = temp + intIn \n",
    "        print(strOut)\n",
    "\n",
    "    print(\"Your coded message is: \", strOut)\n",
    "    return strOut \n",
    "\n",
    "cCipher(strIn, intIn)\n",
    "\n"
   ]
  }
 ],
 "metadata": {
  "kernelspec": {
   "display_name": "Python 3",
   "language": "python",
   "name": "python3"
  },
  "language_info": {
   "codemirror_mode": {
    "name": "ipython",
    "version": 3
   },
   "file_extension": ".py",
   "mimetype": "text/x-python",
   "name": "python",
   "nbconvert_exporter": "python",
   "pygments_lexer": "ipython3",
   "version": "3.6.5"
  }
 },
 "nbformat": 4,
 "nbformat_minor": 2
}
